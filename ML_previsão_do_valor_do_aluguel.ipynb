{
  "nbformat": 4,
  "nbformat_minor": 0,
  "metadata": {
    "colab": {
      "provenance": []
    },
    "kernelspec": {
      "name": "python3",
      "display_name": "Python 3"
    },
    "language_info": {
      "name": "python"
    }
  },
  "cells": [
    {
      "cell_type": "markdown",
      "source": [
        "##Análise Estatística e treinamento de modelo preditivo de Machine Learning com regressão linear OLS em python: Relação entre a área de imóveis e o valor do aluguel\n",
        "\n",
        "https://alexandrepolselli.com.br/analise-estatistica-exploratoria-com-statsmodels-relacao-entre-a-area-de-imoveis-e-o-valor-do-aluguel/"
      ],
      "metadata": {
        "id": "6EIkhHI1ChNC"
      }
    },
    {
      "cell_type": "code",
      "execution_count": null,
      "metadata": {
        "id": "v57RSNb7Cceg"
      },
      "outputs": [],
      "source": [
        "# Imports\n",
        "import pandas as pd\n",
        "import numpy as np\n",
        "import matplotlib.pyplot as plt\n",
        "import seaborn as sns\n",
        "import statsmodels.api as sm\n",
        "from sklearn.linear_model import LinearRegression\n",
        "from sklearn.model_selection import train_test_split"
      ]
    },
    {
      "cell_type": "code",
      "source": [
        "# Importa o banco do drive\n",
        "from google.colab import drive\n",
        "drive.mount ('/content/drive')"
      ],
      "metadata": {
        "id": "OC8RawrWCl5s"
      },
      "execution_count": null,
      "outputs": []
    },
    {
      "cell_type": "code",
      "source": [
        "path = \"/content/drive/MyDrive/dataset.csv\"\n",
        "df = pd.read_csv(path)"
      ],
      "metadata": {
        "id": "NN__yTqzD6-S"
      },
      "execution_count": null,
      "outputs": []
    },
    {
      "cell_type": "markdown",
      "source": [
        "##Primeira fase: Análise Estatística"
      ],
      "metadata": {
        "id": "FtSY3DC0C5sA"
      }
    },
    {
      "cell_type": "code",
      "source": [
        "df.describe"
      ],
      "metadata": {
        "id": "w1AnKyTVC2WY"
      },
      "execution_count": null,
      "outputs": []
    },
    {
      "cell_type": "code",
      "source": [
        "# Verifica se há valores ausentes\n",
        "df.isnull().sum()"
      ],
      "metadata": {
        "id": "C4TKDVOGC9lp"
      },
      "execution_count": null,
      "outputs": []
    },
    {
      "cell_type": "code",
      "source": [
        "df.corr()"
      ],
      "metadata": {
        "id": "OGkZnq7RDB-G"
      },
      "execution_count": null,
      "outputs": []
    },
    {
      "cell_type": "code",
      "source": [
        "sns.histplot (data = df, x = \"area_m2\", kde = True)"
      ],
      "metadata": {
        "id": "qnJw8sBFDD4b"
      },
      "execution_count": null,
      "outputs": []
    },
    {
      "cell_type": "code",
      "source": [
        "#Prepara a variável de entrada X\n",
        "X = np.array (df['area_m2'])"
      ],
      "metadata": {
        "id": "jM8VN31QDF_3"
      },
      "execution_count": null,
      "outputs": []
    },
    {
      "cell_type": "code",
      "source": [
        "X = X.reshape(-1,1)"
      ],
      "metadata": {
        "id": "XEYkWd9xDHzA"
      },
      "execution_count": null,
      "outputs": []
    },
    {
      "cell_type": "code",
      "source": [
        "Y = df['valor_aluguel']"
      ],
      "metadata": {
        "id": "THyK2j7kDJQu"
      },
      "execution_count": null,
      "outputs": []
    },
    {
      "cell_type": "code",
      "source": [
        "#visualizar gráfico de dispersão de x e y\n",
        "plt.scatter (X, Y)\n",
        "plt.xlabel(\"are em m2\")\n",
        "plt.ylabel(\"valor do aluguel\")"
      ],
      "metadata": {
        "id": "pKhi8TXyDKry"
      },
      "execution_count": null,
      "outputs": []
    },
    {
      "cell_type": "markdown",
      "source": [
        "## Início da criação do modelo"
      ],
      "metadata": {
        "id": "PrLF8MW7DjR2"
      }
    },
    {
      "cell_type": "code",
      "source": [
        "X_treino, X_teste, Y_treino, Y_teste = train_test_split (X, Y, test_size = 0.2, random_state= 42)"
      ],
      "metadata": {
        "id": "yFfGxzZhxaaC"
      },
      "execution_count": null,
      "outputs": []
    },
    {
      "cell_type": "code",
      "source": [
        "X_treino.shape"
      ],
      "metadata": {
        "id": "Kci0uirOza-0"
      },
      "execution_count": null,
      "outputs": []
    },
    {
      "cell_type": "code",
      "source": [
        "Y_treino.shape"
      ],
      "metadata": {
        "id": "ZV0y2E16zfTb"
      },
      "execution_count": null,
      "outputs": []
    },
    {
      "cell_type": "code",
      "source": [
        "X_teste.shape"
      ],
      "metadata": {
        "id": "ZswxM-adznUU"
      },
      "execution_count": null,
      "outputs": []
    },
    {
      "cell_type": "code",
      "source": [
        "Y_teste.shape"
      ],
      "metadata": {
        "id": "fu99KjFSzqJI"
      },
      "execution_count": null,
      "outputs": []
    },
    {
      "cell_type": "code",
      "source": [
        "#criando o modelo\n",
        "modelo = LinearRegression()"
      ],
      "metadata": {
        "id": "5vWV8MNwztcH"
      },
      "execution_count": null,
      "outputs": []
    },
    {
      "cell_type": "code",
      "source": [
        "modelo.fit(X_treino, Y_treino)"
      ],
      "metadata": {
        "id": "9In7xOsyz8Wy"
      },
      "execution_count": null,
      "outputs": []
    },
    {
      "cell_type": "code",
      "source": [
        "plt.scatter(X,Y)\n",
        "plt.plot(X,modelo.predict(X), color = \"red\")\n",
        "plt.xlabel(\"area em m2\")\n",
        "plt.ylabel (\"valor do aluguel\")"
      ],
      "metadata": {
        "id": "HsCnxqYo0UmH"
      },
      "execution_count": null,
      "outputs": []
    },
    {
      "cell_type": "code",
      "source": [
        "score = modelo.score(X_teste,Y_teste)\n",
        "print(score)"
      ],
      "metadata": {
        "id": "6qDhcZtI01l5"
      },
      "execution_count": null,
      "outputs": []
    },
    {
      "cell_type": "code",
      "source": [
        "modelo.intercept_"
      ],
      "metadata": {
        "id": "yjFPHOs007zX"
      },
      "execution_count": null,
      "outputs": []
    },
    {
      "cell_type": "code",
      "source": [
        "modelo.coef_"
      ],
      "metadata": {
        "id": "MIis6Nxs1VMX"
      },
      "execution_count": null,
      "outputs": []
    },
    {
      "cell_type": "code",
      "source": [
        "#novo input\n",
        "valor_m2_novo = np.array ([[500],[450],[400],[350],[300],[250]])\n",
        "\n",
        "#previsao com o modelo treinado\n",
        "valor_aluguel_novo = modelo.predict (valor_m2_novo)\n",
        "\n",
        "print (\"com um imovel de \", valor_m2_novo, \" o provavel valor de aluguel será \", valor_aluguel_novo)"
      ],
      "metadata": {
        "id": "siSyBB4P1Zlf"
      },
      "execution_count": null,
      "outputs": []
    }
  ]
}